{
 "cells": [
  {
   "cell_type": "markdown",
   "id": "0059c0c7",
   "metadata": {},
   "source": [
    "# Subclustering analysis"
   ]
  },
  {
   "cell_type": "markdown",
   "id": "e03a7b3a",
   "metadata": {},
   "source": [
    "I need to write a function to perform subclustering analysis.\n",
    "\n",
    "First, I need a test dataset. I will use the `pbmc3k` dataset from Scanpy."
   ]
  },
  {
   "cell_type": "markdown",
   "id": "3aacb767",
   "metadata": {},
   "source": [
    "## Test dataset"
   ]
  },
  {
   "cell_type": "code",
   "execution_count": 8,
   "id": "57274324",
   "metadata": {},
   "outputs": [],
   "source": [
    "import scanpy as sc\n",
    "adata = sc.datasets.pbmc3k_processed()"
   ]
  },
  {
   "cell_type": "code",
   "execution_count": 9,
   "id": "d78abea7",
   "metadata": {},
   "outputs": [
    {
     "data": {
      "application/vnd.microsoft.datawrangler.viewer.v0+json": {
       "columns": [
        {
         "name": "index",
         "rawType": "object",
         "type": "string"
        },
        {
         "name": "n_genes",
         "rawType": "int64",
         "type": "integer"
        },
        {
         "name": "percent_mito",
         "rawType": "float32",
         "type": "float"
        },
        {
         "name": "n_counts",
         "rawType": "float32",
         "type": "float"
        },
        {
         "name": "louvain",
         "rawType": "category",
         "type": "unknown"
        }
       ],
       "ref": "50026d9f-8d5d-4fd6-8221-fcd4758badfa",
       "rows": [
        [
         "AAACATACAACCAC-1",
         "781",
         "0.030177759",
         "2419.0",
         "CD4 T cells"
        ],
        [
         "AAACATTGAGCTAC-1",
         "1352",
         "0.037935957",
         "4903.0",
         "B cells"
        ],
        [
         "AAACATTGATCAGC-1",
         "1131",
         "0.008897362",
         "3147.0",
         "CD4 T cells"
        ],
        [
         "AAACCGTGCTTCCG-1",
         "960",
         "0.017430846",
         "2639.0",
         "CD14+ Monocytes"
        ],
        [
         "AAACCGTGTATGCG-1",
         "522",
         "0.012244898",
         "980.0",
         "NK cells"
        ],
        [
         "AAACGCACTGGTAC-1",
         "782",
         "0.01664355",
         "2163.0",
         "CD8 T cells"
        ],
        [
         "AAACGCTGACCAGT-1",
         "783",
         "0.03816092",
         "2175.0",
         "CD8 T cells"
        ],
        [
         "AAACGCTGGTTCTT-1",
         "790",
         "0.030973451",
         "2260.0",
         "CD8 T cells"
        ],
        [
         "AAACGCTGTAGCCA-1",
         "533",
         "0.011764706",
         "1275.0",
         "CD4 T cells"
        ],
        [
         "AAACGCTGTTTCTG-1",
         "550",
         "0.029011786",
         "1103.0",
         "FCGR3A+ Monocytes"
        ],
        [
         "AAACTTGAAAAACG-1",
         "1116",
         "0.02631579",
         "3914.0",
         "B cells"
        ],
        [
         "AAACTTGATCCAGA-1",
         "751",
         "0.010887772",
         "2388.0",
         "CD4 T cells"
        ],
        [
         "AAAGAGACGAGATA-1",
         "866",
         "0.010788382",
         "2410.0",
         "CD4 T cells"
        ],
        [
         "AAAGAGACGCGAGA-1",
         "1059",
         "0.014177382",
         "3033.0",
         "CD14+ Monocytes"
        ],
        [
         "AAAGAGACGGACTT-1",
         "458",
         "0.023457862",
         "1151.0",
         "CD8 T cells"
        ],
        [
         "AAAGAGACGGCATT-1",
         "335",
         "0.0239899",
         "792.0",
         "CD4 T cells"
        ],
        [
         "AAAGCAGATATCGG-1",
         "1424",
         "0.013961606",
         "4584.0",
         "CD14+ Monocytes"
        ],
        [
         "AAAGCCTGTATGCG-1",
         "1014",
         "0.017076503",
         "2928.0",
         "CD4 T cells"
        ],
        [
         "AAAGGCCTGTCTAG-1",
         "1446",
         "0.015282526",
         "4973.0",
         "B cells"
        ],
        [
         "AAAGTTTGATCACG-1",
         "446",
         "0.034700315",
         "1268.0",
         "B cells"
        ],
        [
         "AAAGTTTGGGGTGA-1",
         "1020",
         "0.025906736",
         "3281.0",
         "B cells"
        ],
        [
         "AAAGTTTGTAGAGA-1",
         "417",
         "0.015426497",
         "1102.0",
         "CD4 T cells"
        ],
        [
         "AAAGTTTGTAGCGT-1",
         "878",
         "0.024972046",
         "2683.0",
         "CD14+ Monocytes"
        ],
        [
         "AAATCAACAATGCC-1",
         "789",
         "0.01164295",
         "2319.0",
         "B cells"
        ],
        [
         "AAATCAACACCAGT-1",
         "510",
         "0.019830028",
         "1412.0",
         "CD4 T cells"
        ],
        [
         "AAATCAACCAGGAG-1",
         "824",
         "0.0225",
         "2800.0",
         "CD4 T cells"
        ],
        [
         "AAATCAACCCTATT-1",
         "1545",
         "0.024312897",
         "5676.0",
         "CD4 T cells"
        ],
        [
         "AAATCAACGGAAGC-1",
         "996",
         "0.017564066",
         "3473.0",
         "CD4 T cells"
        ],
        [
         "AAATCAACTCGCAA-1",
         "937",
         "0.018498754",
         "2811.0",
         "CD4 T cells"
        ],
        [
         "AAATCATGACCACA-1",
         "1368",
         "0.045784883",
         "4128.0",
         "FCGR3A+ Monocytes"
        ],
        [
         "AAATCCCTCCACAA-1",
         "428",
         "0.019895287",
         "955.0",
         "CD8 T cells"
        ],
        [
         "AAATCCCTGCTATG-1",
         "406",
         "0.01703163",
         "822.0",
         "B cells"
        ],
        [
         "AAATGTTGAACGAA-1",
         "1020",
         "0.019326683",
         "3208.0",
         "CD14+ Monocytes"
        ],
        [
         "AAATGTTGCCACAA-1",
         "786",
         "0.00625",
         "1760.0",
         "CD4 T cells"
        ],
        [
         "AAATGTTGTGGCAT-1",
         "1019",
         "0.019195944",
         "2761.0",
         "CD14+ Monocytes"
        ],
        [
         "AAATTCGAAGGTTC-1",
         "750",
         "0.022262774",
         "2740.0",
         "CD4 T cells"
        ],
        [
         "AAATTCGAATCACG-1",
         "822",
         "0.01986755",
         "2567.0",
         "CD14+ Monocytes"
        ],
        [
         "AAATTCGAGCTGAT-1",
         "982",
         "0.021892894",
         "2969.0",
         "FCGR3A+ Monocytes"
        ],
        [
         "AAATTCGAGGAGTG-1",
         "876",
         "0.024848891",
         "2978.0",
         "CD4 T cells"
        ],
        [
         "AAATTCGATTCTCA-1",
         "930",
         "0.01438849",
         "2641.0",
         "CD8 T cells"
        ],
        [
         "AAATTGACACGACT-1",
         "838",
         "0.021213407",
         "2357.0",
         "CD8 T cells"
        ],
        [
         "AAATTGACTCGCTC-1",
         "1014",
         "0.014951627",
         "3411.0",
         "CD8 T cells"
        ],
        [
         "AACAAACTCATTTC-1",
         "732",
         "0.014233242",
         "2178.0",
         "CD4 T cells"
        ],
        [
         "AACAAACTTTCGTT-1",
         "877",
         "0.017113095",
         "2688.0",
         "CD4 T cells"
        ],
        [
         "AACAATACGACGAG-1",
         "782",
         "0.029942965",
         "2104.0",
         "CD4 T cells"
        ],
        [
         "AACACGTGCAGAGG-1",
         "787",
         "0.00889383",
         "1799.0",
         "CD4 T cells"
        ],
        [
         "AACACGTGGAAAGT-1",
         "791",
         "0.010270065",
         "2629.0",
         "CD4 T cells"
        ],
        [
         "AACACGTGGAACCT-1",
         "880",
         "0.022368422",
         "2280.0",
         "CD14+ Monocytes"
        ],
        [
         "AACACGTGGCTACA-1",
         "801",
         "0.02413273",
         "2652.0",
         "CD4 T cells"
        ],
        [
         "AACACGTGTACGAC-1",
         "1215",
         "0.027458671",
         "3569.0",
         "FCGR3A+ Monocytes"
        ]
       ],
       "shape": {
        "columns": 4,
        "rows": 2638
       }
      },
      "text/html": [
       "<div>\n",
       "<style scoped>\n",
       "    .dataframe tbody tr th:only-of-type {\n",
       "        vertical-align: middle;\n",
       "    }\n",
       "\n",
       "    .dataframe tbody tr th {\n",
       "        vertical-align: top;\n",
       "    }\n",
       "\n",
       "    .dataframe thead th {\n",
       "        text-align: right;\n",
       "    }\n",
       "</style>\n",
       "<table border=\"1\" class=\"dataframe\">\n",
       "  <thead>\n",
       "    <tr style=\"text-align: right;\">\n",
       "      <th></th>\n",
       "      <th>n_genes</th>\n",
       "      <th>percent_mito</th>\n",
       "      <th>n_counts</th>\n",
       "      <th>louvain</th>\n",
       "    </tr>\n",
       "    <tr>\n",
       "      <th>index</th>\n",
       "      <th></th>\n",
       "      <th></th>\n",
       "      <th></th>\n",
       "      <th></th>\n",
       "    </tr>\n",
       "  </thead>\n",
       "  <tbody>\n",
       "    <tr>\n",
       "      <th>AAACATACAACCAC-1</th>\n",
       "      <td>781</td>\n",
       "      <td>0.030178</td>\n",
       "      <td>2419.0</td>\n",
       "      <td>CD4 T cells</td>\n",
       "    </tr>\n",
       "    <tr>\n",
       "      <th>AAACATTGAGCTAC-1</th>\n",
       "      <td>1352</td>\n",
       "      <td>0.037936</td>\n",
       "      <td>4903.0</td>\n",
       "      <td>B cells</td>\n",
       "    </tr>\n",
       "    <tr>\n",
       "      <th>AAACATTGATCAGC-1</th>\n",
       "      <td>1131</td>\n",
       "      <td>0.008897</td>\n",
       "      <td>3147.0</td>\n",
       "      <td>CD4 T cells</td>\n",
       "    </tr>\n",
       "    <tr>\n",
       "      <th>AAACCGTGCTTCCG-1</th>\n",
       "      <td>960</td>\n",
       "      <td>0.017431</td>\n",
       "      <td>2639.0</td>\n",
       "      <td>CD14+ Monocytes</td>\n",
       "    </tr>\n",
       "    <tr>\n",
       "      <th>AAACCGTGTATGCG-1</th>\n",
       "      <td>522</td>\n",
       "      <td>0.012245</td>\n",
       "      <td>980.0</td>\n",
       "      <td>NK cells</td>\n",
       "    </tr>\n",
       "    <tr>\n",
       "      <th>...</th>\n",
       "      <td>...</td>\n",
       "      <td>...</td>\n",
       "      <td>...</td>\n",
       "      <td>...</td>\n",
       "    </tr>\n",
       "    <tr>\n",
       "      <th>TTTCGAACTCTCAT-1</th>\n",
       "      <td>1155</td>\n",
       "      <td>0.021104</td>\n",
       "      <td>3459.0</td>\n",
       "      <td>CD14+ Monocytes</td>\n",
       "    </tr>\n",
       "    <tr>\n",
       "      <th>TTTCTACTGAGGCA-1</th>\n",
       "      <td>1227</td>\n",
       "      <td>0.009294</td>\n",
       "      <td>3443.0</td>\n",
       "      <td>B cells</td>\n",
       "    </tr>\n",
       "    <tr>\n",
       "      <th>TTTCTACTTCCTCG-1</th>\n",
       "      <td>622</td>\n",
       "      <td>0.021971</td>\n",
       "      <td>1684.0</td>\n",
       "      <td>B cells</td>\n",
       "    </tr>\n",
       "    <tr>\n",
       "      <th>TTTGCATGAGAGGC-1</th>\n",
       "      <td>454</td>\n",
       "      <td>0.020548</td>\n",
       "      <td>1022.0</td>\n",
       "      <td>B cells</td>\n",
       "    </tr>\n",
       "    <tr>\n",
       "      <th>TTTGCATGCCTCAC-1</th>\n",
       "      <td>724</td>\n",
       "      <td>0.008065</td>\n",
       "      <td>1984.0</td>\n",
       "      <td>CD4 T cells</td>\n",
       "    </tr>\n",
       "  </tbody>\n",
       "</table>\n",
       "<p>2638 rows × 4 columns</p>\n",
       "</div>"
      ],
      "text/plain": [
       "                  n_genes  percent_mito  n_counts          louvain\n",
       "index                                                             \n",
       "AAACATACAACCAC-1      781      0.030178    2419.0      CD4 T cells\n",
       "AAACATTGAGCTAC-1     1352      0.037936    4903.0          B cells\n",
       "AAACATTGATCAGC-1     1131      0.008897    3147.0      CD4 T cells\n",
       "AAACCGTGCTTCCG-1      960      0.017431    2639.0  CD14+ Monocytes\n",
       "AAACCGTGTATGCG-1      522      0.012245     980.0         NK cells\n",
       "...                   ...           ...       ...              ...\n",
       "TTTCGAACTCTCAT-1     1155      0.021104    3459.0  CD14+ Monocytes\n",
       "TTTCTACTGAGGCA-1     1227      0.009294    3443.0          B cells\n",
       "TTTCTACTTCCTCG-1      622      0.021971    1684.0          B cells\n",
       "TTTGCATGAGAGGC-1      454      0.020548    1022.0          B cells\n",
       "TTTGCATGCCTCAC-1      724      0.008065    1984.0      CD4 T cells\n",
       "\n",
       "[2638 rows x 4 columns]"
      ]
     },
     "execution_count": 9,
     "metadata": {},
     "output_type": "execute_result"
    }
   ],
   "source": [
    "adata.obs"
   ]
  },
  {
   "cell_type": "markdown",
   "id": "30d59658",
   "metadata": {},
   "source": [
    "## Test leiden_multi_resolution function"
   ]
  },
  {
   "cell_type": "code",
   "execution_count": 12,
   "id": "521a6a36",
   "metadata": {},
   "outputs": [],
   "source": [
    "import scanpytools as sctl\n",
    "adata_leiden = sctl.tl.leiden_multi_resolution(adata)"
   ]
  },
  {
   "cell_type": "code",
   "execution_count": 13,
   "id": "3942c6b3",
   "metadata": {},
   "outputs": [
    {
     "data": {
      "text/plain": [
       "Index(['n_genes', 'percent_mito', 'n_counts', 'louvain', 'leiden_0.0',\n",
       "       'leiden_0.1', 'leiden_0.2', 'leiden_0.3', 'leiden_0.4', 'leiden_0.5',\n",
       "       'leiden_0.6', 'leiden_0.7', 'leiden_0.8', 'leiden_0.9', 'leiden_1.0'],\n",
       "      dtype='object')"
      ]
     },
     "execution_count": 13,
     "metadata": {},
     "output_type": "execute_result"
    }
   ],
   "source": [
    "adata_leiden.obs.columns"
   ]
  },
  {
   "cell_type": "markdown",
   "id": "e1192265",
   "metadata": {},
   "source": [
    "## Subclutering analysis"
   ]
  },
  {
   "cell_type": "code",
   "execution_count": null,
   "id": "9af25c15",
   "metadata": {},
   "outputs": [
    {
     "data": {
      "application/vnd.microsoft.datawrangler.viewer.v0+json": {
       "columns": [
        {
         "name": "leiden_0.0",
         "rawType": "category",
         "type": "unknown"
        },
        {
         "name": "count",
         "rawType": "int64",
         "type": "integer"
        }
       ],
       "ref": "c1a6c608-d5df-48ec-951e-a42541b7e9be",
       "rows": [
        [
         "0",
         "2638"
        ]
       ],
       "shape": {
        "columns": 1,
        "rows": 1
       }
      },
      "text/plain": [
       "leiden_0.0\n",
       "0    2638\n",
       "Name: count, dtype: int64"
      ]
     },
     "execution_count": 16,
     "metadata": {},
     "output_type": "execute_result"
    }
   ],
   "source": [
    "# First start with a specific resolution.\n",
    "\n",
    "adata_leiden.obs[\"leiden_0.0\"].value_counts() # This is an exception that needs to be handled."
   ]
  },
  {
   "cell_type": "code",
   "execution_count": 19,
   "id": "d559f4d5",
   "metadata": {},
   "outputs": [
    {
     "data": {
      "application/vnd.microsoft.datawrangler.viewer.v0+json": {
       "columns": [
        {
         "name": "leiden_0.3",
         "rawType": "category",
         "type": "unknown"
        },
        {
         "name": "proportion",
         "rawType": "float64",
         "type": "float"
        }
       ],
       "ref": "6be0fcbf-8ab3-4dc0-bf4c-cb7f652a0f13",
       "rows": [],
       "shape": {
        "columns": 1,
        "rows": 0
       }
      },
      "text/plain": [
       "Series([], Name: proportion, dtype: float64)"
      ]
     },
     "execution_count": 19,
     "metadata": {},
     "output_type": "execute_result"
    }
   ],
   "source": [
    "# First check the number of clusters at resolution 0.3\n",
    "# Filter only the clusters with more than 5%\n",
    "\n",
    "adata_leiden.obs[\"leiden_0.3\"].value_counts(normalize=True).loc[lambda x: x > 0.05 * adata_leiden.shape[0]]\n"
   ]
  }
 ],
 "metadata": {
  "kernelspec": {
   "display_name": ".venv",
   "language": "python",
   "name": "python3"
  },
  "language_info": {
   "codemirror_mode": {
    "name": "ipython",
    "version": 3
   },
   "file_extension": ".py",
   "mimetype": "text/x-python",
   "name": "python",
   "nbconvert_exporter": "python",
   "pygments_lexer": "ipython3",
   "version": "3.12.3"
  }
 },
 "nbformat": 4,
 "nbformat_minor": 5
}
